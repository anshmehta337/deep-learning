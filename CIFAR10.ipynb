{
  "nbformat": 4,
  "nbformat_minor": 0,
  "metadata": {
    "colab": {
      "provenance": [],
      "gpuType": "T4",
      "authorship_tag": "ABX9TyNMp+Y/mCa0U5thKgsYfuLD",
      "include_colab_link": true
    },
    "kernelspec": {
      "name": "python3",
      "display_name": "Python 3"
    },
    "language_info": {
      "name": "python"
    },
    "accelerator": "GPU"
  },
  "cells": [
    {
      "cell_type": "markdown",
      "metadata": {
        "id": "view-in-github",
        "colab_type": "text"
      },
      "source": [
        "<a href=\"https://colab.research.google.com/github/anshmehta337/deep-learning/blob/main/CIFAR10.ipynb\" target=\"_parent\"><img src=\"https://colab.research.google.com/assets/colab-badge.svg\" alt=\"Open In Colab\"/></a>"
      ]
    },
    {
      "cell_type": "code",
      "source": [
        "import torch\n",
        "import torch.optim as optim\n",
        "import torch.nn as nn\n",
        "import torchvision.transforms as transforms\n",
        "import torchvision.datasets as dataset\n",
        "from torch.utils.data import DataLoader"
      ],
      "metadata": {
        "id": "ztqwZfkyFME2"
      },
      "execution_count": null,
      "outputs": []
    },
    {
      "cell_type": "code",
      "source": [
        "train_transform=transforms.Compose([\n",
        "    transforms.RandomRotation(10),\n",
        "    transforms.RandomHorizontalFlip(),\n",
        "    transforms.ToTensor(),\n",
        "    transforms.Normalize((0.5,0.5,0.5),(0.5,0.5,0.5))\n",
        "])"
      ],
      "metadata": {
        "id": "FOxVjCxhIIox"
      },
      "execution_count": null,
      "outputs": []
    },
    {
      "cell_type": "code",
      "source": [
        "test_transform=transforms.Compose([\n",
        "    transforms.ToTensor(),\n",
        "    transforms.Normalize((0.5,0.5,0.5),(0.5,0.5,0.5))\n",
        "])"
      ],
      "metadata": {
        "id": "uruEr1PmIrLk"
      },
      "execution_count": null,
      "outputs": []
    },
    {
      "cell_type": "code",
      "source": [
        "train_dataset=dataset.CIFAR10(root='./data',train=True,download=True,transform=train_transform)\n",
        "test_dataset=dataset.CIFAR10(root='./data',train=False,download=True,transform=test_transform)\n"
      ],
      "metadata": {
        "id": "eA7RGChuI-YX",
        "colab": {
          "base_uri": "https://localhost:8080/"
        },
        "outputId": "80e07baa-8dba-482b-c8f4-8223c99cae40"
      },
      "execution_count": null,
      "outputs": [
        {
          "output_type": "stream",
          "name": "stderr",
          "text": [
            "100%|██████████| 170M/170M [00:13<00:00, 12.7MB/s]\n"
          ]
        }
      ]
    },
    {
      "cell_type": "code",
      "source": [
        "train_loader=DataLoader(train_dataset,batch_size=128,shuffle=True,num_workers=4)\n",
        "\n",
        "test_loader=DataLoader(test_dataset,batch_size=128,shuffle=False,num_workers=4)\n"
      ],
      "metadata": {
        "colab": {
          "base_uri": "https://localhost:8080/"
        },
        "id": "cHFx-f5YJuwt",
        "outputId": "29e86f23-7c9c-4c00-d0f3-538843b623b5"
      },
      "execution_count": null,
      "outputs": [
        {
          "output_type": "stream",
          "name": "stderr",
          "text": [
            "/usr/local/lib/python3.11/dist-packages/torch/utils/data/dataloader.py:624: UserWarning: This DataLoader will create 4 worker processes in total. Our suggested max number of worker in current system is 2, which is smaller than what this DataLoader is going to create. Please be aware that excessive worker creation might get DataLoader running slow or even freeze, lower the worker number to avoid potential slowness/freeze if necessary.\n",
            "  warnings.warn(\n"
          ]
        }
      ]
    },
    {
      "cell_type": "code",
      "source": [
        "#lets make resnet inspired architecture"
      ],
      "metadata": {
        "id": "AHOD9ekaKECa"
      },
      "execution_count": null,
      "outputs": []
    },
    {
      "cell_type": "code",
      "source": [
        "class build_res(nn.Module):\n",
        "  def __init__(self,in_channels,out_channels,drop=0.0,down_sample=False):\n",
        "    super().__init__()\n",
        "    stride=2 if down_sample else 1\n",
        "    self.conv1=nn.Conv2d(in_channels,out_channels,kernel_size=3,stride=stride,padding=1,bias=False)\n",
        "    self.bn1=nn.BatchNorm2d(out_channels)\n",
        "    self.relu=nn.ReLU(inplace=True)\n",
        "\n",
        "    self.conv2=nn.Conv2d(out_channels,out_channels,kernel_size=3,stride=1,padding=1,bias=False)\n",
        "    self.bn2=nn.BatchNorm2d(out_channels)\n",
        "    self.drop=nn.Dropout(drop)\n",
        "\n",
        "    self.shortcut=nn.Sequential()\n",
        "    if in_channels!=out_channels or down_sample:\n",
        "      self.shortcut=nn.Sequential(\n",
        "          nn.Conv2d(in_channels,out_channels,kernel_size=1,stride=stride,bias=False),\n",
        "          nn.BatchNorm2d(out_channels)\n",
        "      )\n",
        "  def forward(self,x):\n",
        "      store=x\n",
        "      x=self.conv1(x)\n",
        "      x=self.bn1(x)\n",
        "      x=self.relu(x)\n",
        "      x=self.conv2(x)\n",
        "      x=self.bn2(x)\n",
        "      x=self.drop(x)\n",
        "      x+=self.shortcut(store)\n",
        "      x=self.relu(x)\n",
        "      return x\n"
      ],
      "metadata": {
        "id": "YFXciw7IN-18"
      },
      "execution_count": null,
      "outputs": []
    },
    {
      "cell_type": "code",
      "source": [
        "class godeep(nn.Module):\n",
        "  def __init__(self,n_class=100):\n",
        "    super().__init__()\n",
        "    self.block1=nn.Sequential(\n",
        "        build_res(3,64,drop=0.2,down_sample=False),\n",
        "        build_res(64,64,drop=0.2),\n",
        "        build_res(64,64,drop=0.2),\n",
        "    )\n",
        "    self.block2=nn.Sequential(\n",
        "        build_res(64,128,drop=0.2,down_sample=True),\n",
        "        build_res(128,128,drop=0.2),\n",
        "        build_res(128,128,drop=0.2),\n",
        "        build_res(128,128,drop=0.2),\n",
        "    )\n",
        "    self.block3=nn.Sequential(\n",
        "         build_res(128,256,drop=0.3,down_sample=True),\n",
        "         build_res(256,256,drop=0.3),\n",
        "         build_res(256,256,drop=0.3),\n",
        "         build_res(256,256,drop=0.3),\n",
        "         build_res(256,256,drop=0.3),\n",
        "    )\n",
        "    self.block4=nn.Sequential(\n",
        "        build_res(256,512,drop=0.3,down_sample=True),\n",
        "        build_res(512,512,drop=0.3),\n",
        "        build_res(512,512,drop=0.3),\n",
        "    )\n",
        "    #pred now\n",
        "    self.avgpool=nn.AdaptiveAvgPool2d((1,1))\n",
        "    self.fc=nn.Sequential(\n",
        "         nn.Flatten(),\n",
        "            nn.Linear(512, 256),\n",
        "            nn.ReLU(),\n",
        "            nn.Dropout(0.3),\n",
        "            nn.Linear(256, 128),\n",
        "            nn.ReLU(),\n",
        "            nn.Dropout(0.3),\n",
        "            nn.Linear(128, 100)\n",
        "\n",
        "    )\n",
        "  def forward(self,x):\n",
        "      x=self.block1(x)\n",
        "      x=self.block2(x)\n",
        "      x=self.block3(x)\n",
        "      x=self.block4(x)\n",
        "      x=self.avgpool(x)\n",
        "      x=self.fc(x)\n",
        "      return x\n"
      ],
      "metadata": {
        "id": "ujjZh17GRk_H"
      },
      "execution_count": null,
      "outputs": []
    },
    {
      "cell_type": "code",
      "source": [
        "#now train our network\n",
        "class EarlyStopping:\n",
        "    def __init__(self, patience=10, min_delta=0):\n",
        "        self.patience = patience\n",
        "        self.min_delta = min_delta\n",
        "        self.best_loss = None\n",
        "        self.counter = 0\n",
        "        self.early_stop = False\n",
        "\n",
        "    def __call__(self, val_loss):\n",
        "        if self.best_loss is None:\n",
        "            self.best_loss = val_loss\n",
        "        elif val_loss > self.best_loss - self.min_delta:\n",
        "            self.counter += 1\n",
        "            if self.counter >= self.patience:\n",
        "                self.early_stop = True\n",
        "        else:\n",
        "            self.best_loss = val_loss\n",
        "            self.counter = 0\n"
      ],
      "metadata": {
        "id": "3UEgWWoOTp4p"
      },
      "execution_count": null,
      "outputs": []
    },
    {
      "cell_type": "code",
      "source": [
        "device = torch.device(\"cuda\" if torch.cuda.is_available() else \"cpu\")\n",
        "\n",
        "model = godeep().to(device)\n",
        "\n",
        "criterion = nn.CrossEntropyLoss()\n",
        "optimizer = optim.SGD(model.parameters(), lr=0.1, momentum=0.9, weight_decay=5e-4)\n",
        "scheduler = torch.optim.lr_scheduler.CosineAnnealingLR(optimizer, T_max=100)\n"
      ],
      "metadata": {
        "id": "wvsLVb9LTsSC"
      },
      "execution_count": null,
      "outputs": []
    },
    {
      "cell_type": "code",
      "source": [
        "def train_one_epoch(epoch):\n",
        "    model.train()\n",
        "    running_loss, correct, total = 0, 0, 0\n",
        "\n",
        "    for inputs, targets in train_loader:\n",
        "        inputs, targets = inputs.to(device), targets.to(device)\n",
        "\n",
        "        optimizer.zero_grad()\n",
        "        outputs = model(inputs)\n",
        "        loss = criterion(outputs, targets)\n",
        "        loss.backward()\n",
        "        optimizer.step()\n",
        "\n",
        "        running_loss += loss.item() * inputs.size(0)\n",
        "        _, predicted = outputs.max(1)\n",
        "        total += targets.size(0)\n",
        "        correct += predicted.eq(targets).sum().item()\n",
        "\n",
        "    print(f\"Epoch {epoch} | Train Loss: {running_loss/total:.4f} | Train Acc: {100*correct/total:.2f}%\")\n",
        "\n",
        "def evaluate():\n",
        "    model.eval()\n",
        "    correct, total, loss_sum = 0, 0, 0\n",
        "    with torch.no_grad():\n",
        "        for inputs, targets in test_loader:\n",
        "            inputs, targets = inputs.to(device), targets.to(device)\n",
        "            outputs = model(inputs)\n",
        "            loss_sum += criterion(outputs, targets).item() * inputs.size(0)\n",
        "            _, predicted = outputs.max(1)\n",
        "            total += targets.size(0)\n",
        "            correct += predicted.eq(targets).sum().item()\n",
        "    return loss_sum / total, 100 * correct / total\n",
        "\n",
        "\n",
        "early_stopping = EarlyStopping(patience=10, min_delta=0.001)\n",
        "\n",
        "for epoch in range(100):\n",
        "    train_one_epoch(epoch)\n",
        "    val_loss, val_acc = evaluate()\n",
        "    print(f\"Validation Loss: {val_loss:.4f} | Validation Acc: {val_acc:.2f}%\")\n",
        "\n",
        "    early_stopping(val_loss)\n",
        "    if early_stopping.early_stop:\n",
        "        print(\"Early stopping triggered!\")\n",
        "        break\n",
        "\n",
        "    scheduler.step()\n"
      ],
      "metadata": {
        "colab": {
          "base_uri": "https://localhost:8080/"
        },
        "id": "7Y0OTxJ5T4A1",
        "outputId": "804e86b7-e5ec-4eac-df7e-13a669109432"
      },
      "execution_count": null,
      "outputs": [
        {
          "output_type": "stream",
          "name": "stdout",
          "text": [
            "Epoch 0 | Train Loss: 2.1411 | Train Acc: 18.95%\n",
            "Validation Loss: 1.8223 | Validation Acc: 27.29%\n",
            "Epoch 1 | Train Loss: 1.7924 | Train Acc: 28.70%\n",
            "Validation Loss: 1.6974 | Validation Acc: 33.74%\n",
            "Epoch 2 | Train Loss: 1.6131 | Train Acc: 37.47%\n",
            "Validation Loss: 1.4945 | Validation Acc: 44.83%\n",
            "Epoch 3 | Train Loss: 1.4473 | Train Acc: 46.16%\n",
            "Validation Loss: 1.2812 | Validation Acc: 52.19%\n",
            "Epoch 4 | Train Loss: 1.2909 | Train Acc: 53.71%\n",
            "Validation Loss: 1.2083 | Validation Acc: 56.82%\n",
            "Epoch 5 | Train Loss: 1.1874 | Train Acc: 58.78%\n",
            "Validation Loss: 1.0104 | Validation Acc: 64.59%\n",
            "Epoch 6 | Train Loss: 1.1198 | Train Acc: 61.69%\n",
            "Validation Loss: 1.0530 | Validation Acc: 63.55%\n",
            "Epoch 7 | Train Loss: 1.0225 | Train Acc: 65.40%\n",
            "Validation Loss: 0.8789 | Validation Acc: 69.94%\n",
            "Epoch 8 | Train Loss: 0.9268 | Train Acc: 69.20%\n",
            "Validation Loss: 0.8965 | Validation Acc: 71.26%\n",
            "Epoch 9 | Train Loss: 0.8544 | Train Acc: 72.09%\n",
            "Validation Loss: 0.8473 | Validation Acc: 72.66%\n",
            "Epoch 10 | Train Loss: 0.8227 | Train Acc: 73.46%\n",
            "Validation Loss: 0.7293 | Validation Acc: 76.04%\n",
            "Epoch 11 | Train Loss: 0.7689 | Train Acc: 75.37%\n",
            "Validation Loss: 0.7072 | Validation Acc: 76.93%\n",
            "Epoch 12 | Train Loss: 0.7518 | Train Acc: 76.02%\n",
            "Validation Loss: 0.8175 | Validation Acc: 74.81%\n",
            "Epoch 13 | Train Loss: 0.7089 | Train Acc: 77.18%\n",
            "Validation Loss: 0.7579 | Validation Acc: 76.24%\n",
            "Epoch 14 | Train Loss: 0.6917 | Train Acc: 77.93%\n",
            "Validation Loss: 0.8525 | Validation Acc: 73.89%\n",
            "Epoch 15 | Train Loss: 0.6693 | Train Acc: 78.71%\n",
            "Validation Loss: 0.7012 | Validation Acc: 78.06%\n",
            "Epoch 16 | Train Loss: 0.6363 | Train Acc: 79.89%\n",
            "Validation Loss: 0.7239 | Validation Acc: 77.87%\n",
            "Epoch 17 | Train Loss: 0.6320 | Train Acc: 80.17%\n",
            "Validation Loss: 0.6264 | Validation Acc: 80.10%\n",
            "Epoch 18 | Train Loss: 0.6118 | Train Acc: 80.76%\n",
            "Validation Loss: 0.6138 | Validation Acc: 79.94%\n",
            "Epoch 19 | Train Loss: 0.5999 | Train Acc: 81.14%\n",
            "Validation Loss: 0.9011 | Validation Acc: 73.16%\n",
            "Epoch 20 | Train Loss: 0.5862 | Train Acc: 81.56%\n",
            "Validation Loss: 0.5789 | Validation Acc: 81.80%\n",
            "Epoch 21 | Train Loss: 0.5742 | Train Acc: 81.61%\n",
            "Validation Loss: 0.6104 | Validation Acc: 80.14%\n",
            "Epoch 22 | Train Loss: 0.5697 | Train Acc: 81.94%\n",
            "Validation Loss: 0.7955 | Validation Acc: 75.26%\n",
            "Epoch 23 | Train Loss: 0.5522 | Train Acc: 82.39%\n",
            "Validation Loss: 0.5480 | Validation Acc: 82.67%\n",
            "Epoch 24 | Train Loss: 0.5513 | Train Acc: 82.63%\n",
            "Validation Loss: 0.6656 | Validation Acc: 79.25%\n",
            "Epoch 25 | Train Loss: 0.5389 | Train Acc: 83.06%\n",
            "Validation Loss: 0.5685 | Validation Acc: 82.32%\n",
            "Epoch 26 | Train Loss: 0.5296 | Train Acc: 83.58%\n",
            "Validation Loss: 0.6526 | Validation Acc: 80.01%\n",
            "Epoch 27 | Train Loss: 0.5177 | Train Acc: 83.73%\n",
            "Validation Loss: 1.1584 | Validation Acc: 71.67%\n",
            "Epoch 28 | Train Loss: 0.5088 | Train Acc: 84.00%\n",
            "Validation Loss: 0.4553 | Validation Acc: 85.61%\n",
            "Epoch 29 | Train Loss: 0.5035 | Train Acc: 84.23%\n",
            "Validation Loss: 0.5812 | Validation Acc: 81.91%\n",
            "Epoch 30 | Train Loss: 0.4937 | Train Acc: 84.37%\n",
            "Validation Loss: 0.5549 | Validation Acc: 82.30%\n",
            "Epoch 31 | Train Loss: 0.4842 | Train Acc: 84.77%\n",
            "Validation Loss: 0.4333 | Validation Acc: 85.92%\n",
            "Epoch 32 | Train Loss: 0.4797 | Train Acc: 84.93%\n",
            "Validation Loss: 0.4679 | Validation Acc: 85.04%\n",
            "Epoch 33 | Train Loss: 0.4647 | Train Acc: 85.35%\n",
            "Validation Loss: 0.4758 | Validation Acc: 84.77%\n",
            "Epoch 34 | Train Loss: 0.4777 | Train Acc: 84.92%\n",
            "Validation Loss: 0.5086 | Validation Acc: 84.09%\n",
            "Epoch 35 | Train Loss: 0.4601 | Train Acc: 85.55%\n",
            "Validation Loss: 0.4439 | Validation Acc: 85.57%\n",
            "Epoch 36 | Train Loss: 0.4551 | Train Acc: 85.67%\n",
            "Validation Loss: 0.4506 | Validation Acc: 85.57%\n",
            "Epoch 37 | Train Loss: 0.4448 | Train Acc: 85.95%\n",
            "Validation Loss: 0.4936 | Validation Acc: 83.91%\n",
            "Epoch 38 | Train Loss: 0.4410 | Train Acc: 85.97%\n",
            "Validation Loss: 0.7012 | Validation Acc: 79.89%\n",
            "Epoch 39 | Train Loss: 0.4280 | Train Acc: 86.46%\n",
            "Validation Loss: 0.5014 | Validation Acc: 84.49%\n",
            "Epoch 40 | Train Loss: 0.4284 | Train Acc: 86.59%\n",
            "Validation Loss: 0.4142 | Validation Acc: 86.76%\n",
            "Epoch 41 | Train Loss: 0.4095 | Train Acc: 87.12%\n",
            "Validation Loss: 0.4465 | Validation Acc: 86.06%\n",
            "Epoch 42 | Train Loss: 0.4014 | Train Acc: 87.30%\n",
            "Validation Loss: 0.5062 | Validation Acc: 84.23%\n",
            "Epoch 43 | Train Loss: 0.3956 | Train Acc: 87.59%\n",
            "Validation Loss: 0.5766 | Validation Acc: 82.80%\n",
            "Epoch 44 | Train Loss: 0.3935 | Train Acc: 87.67%\n",
            "Validation Loss: 0.5158 | Validation Acc: 83.52%\n",
            "Epoch 45 | Train Loss: 0.3848 | Train Acc: 87.80%\n",
            "Validation Loss: 0.4410 | Validation Acc: 86.46%\n",
            "Epoch 46 | Train Loss: 0.3766 | Train Acc: 88.17%\n",
            "Validation Loss: 0.3870 | Validation Acc: 87.29%\n",
            "Epoch 47 | Train Loss: 0.3731 | Train Acc: 88.28%\n",
            "Validation Loss: 0.4395 | Validation Acc: 86.36%\n",
            "Epoch 48 | Train Loss: 0.3582 | Train Acc: 88.71%\n",
            "Validation Loss: 0.5265 | Validation Acc: 83.87%\n",
            "Epoch 49 | Train Loss: 0.3513 | Train Acc: 89.00%\n",
            "Validation Loss: 0.4142 | Validation Acc: 86.55%\n",
            "Epoch 50 | Train Loss: 0.3424 | Train Acc: 89.19%\n",
            "Validation Loss: 0.3376 | Validation Acc: 89.42%\n",
            "Epoch 51 | Train Loss: 0.3396 | Train Acc: 89.22%\n",
            "Validation Loss: 0.3451 | Validation Acc: 88.65%\n",
            "Epoch 52 | Train Loss: 0.3232 | Train Acc: 89.86%\n",
            "Validation Loss: 0.4030 | Validation Acc: 87.28%\n",
            "Epoch 53 | Train Loss: 0.3217 | Train Acc: 89.82%\n",
            "Validation Loss: 0.4143 | Validation Acc: 87.19%\n",
            "Epoch 54 | Train Loss: 0.3161 | Train Acc: 90.04%\n",
            "Validation Loss: 0.4251 | Validation Acc: 86.93%\n",
            "Epoch 55 | Train Loss: 0.3002 | Train Acc: 90.57%\n",
            "Validation Loss: 0.3747 | Validation Acc: 88.53%\n",
            "Epoch 56 | Train Loss: 0.3015 | Train Acc: 90.55%\n",
            "Validation Loss: 0.3624 | Validation Acc: 88.75%\n",
            "Epoch 57 | Train Loss: 0.2870 | Train Acc: 90.94%\n",
            "Validation Loss: 0.3642 | Validation Acc: 88.47%\n",
            "Epoch 58 | Train Loss: 0.2782 | Train Acc: 91.22%\n",
            "Validation Loss: 0.3647 | Validation Acc: 88.92%\n",
            "Epoch 59 | Train Loss: 0.2690 | Train Acc: 91.23%\n",
            "Validation Loss: 0.3131 | Validation Acc: 90.15%\n",
            "Epoch 60 | Train Loss: 0.2581 | Train Acc: 91.98%\n",
            "Validation Loss: 0.3956 | Validation Acc: 88.10%\n",
            "Epoch 61 | Train Loss: 0.2484 | Train Acc: 92.33%\n",
            "Validation Loss: 0.4091 | Validation Acc: 88.20%\n",
            "Epoch 62 | Train Loss: 0.2469 | Train Acc: 92.18%\n",
            "Validation Loss: 0.3712 | Validation Acc: 88.57%\n",
            "Epoch 63 | Train Loss: 0.2295 | Train Acc: 92.80%\n",
            "Validation Loss: 0.3151 | Validation Acc: 90.36%\n",
            "Epoch 64 | Train Loss: 0.2241 | Train Acc: 92.87%\n",
            "Validation Loss: 0.3432 | Validation Acc: 89.72%\n",
            "Epoch 65 | Train Loss: 0.2181 | Train Acc: 93.12%\n",
            "Validation Loss: 0.3519 | Validation Acc: 89.35%\n",
            "Epoch 66 | Train Loss: 0.2009 | Train Acc: 93.69%\n",
            "Validation Loss: 0.3361 | Validation Acc: 89.69%\n",
            "Epoch 67 | Train Loss: 0.1986 | Train Acc: 93.81%\n",
            "Validation Loss: 0.3272 | Validation Acc: 90.41%\n",
            "Epoch 68 | Train Loss: 0.1917 | Train Acc: 93.89%\n",
            "Validation Loss: 0.3071 | Validation Acc: 90.78%\n",
            "Epoch 69 | Train Loss: 0.1764 | Train Acc: 94.45%\n",
            "Validation Loss: 0.3241 | Validation Acc: 90.28%\n",
            "Epoch 70 | Train Loss: 0.1634 | Train Acc: 94.78%\n",
            "Validation Loss: 0.3274 | Validation Acc: 90.23%\n",
            "Epoch 71 | Train Loss: 0.1592 | Train Acc: 94.94%\n",
            "Validation Loss: 0.3005 | Validation Acc: 90.89%\n",
            "Epoch 72 | Train Loss: 0.1480 | Train Acc: 95.38%\n",
            "Validation Loss: 0.3268 | Validation Acc: 90.95%\n",
            "Epoch 73 | Train Loss: 0.1384 | Train Acc: 95.61%\n",
            "Validation Loss: 0.3099 | Validation Acc: 91.36%\n",
            "Epoch 74 | Train Loss: 0.1346 | Train Acc: 95.84%\n",
            "Validation Loss: 0.3037 | Validation Acc: 91.34%\n",
            "Epoch 75 | Train Loss: 0.1255 | Train Acc: 96.10%\n",
            "Validation Loss: 0.2861 | Validation Acc: 91.72%\n",
            "Epoch 76 | Train Loss: 0.1086 | Train Acc: 96.59%\n",
            "Validation Loss: 0.3237 | Validation Acc: 91.45%\n",
            "Epoch 77 | Train Loss: 0.1031 | Train Acc: 96.78%\n",
            "Validation Loss: 0.2939 | Validation Acc: 91.99%\n",
            "Epoch 78 | Train Loss: 0.0947 | Train Acc: 97.03%\n",
            "Validation Loss: 0.2941 | Validation Acc: 91.99%\n",
            "Epoch 79 | Train Loss: 0.0820 | Train Acc: 97.50%\n",
            "Validation Loss: 0.2935 | Validation Acc: 92.49%\n",
            "Epoch 80 | Train Loss: 0.0769 | Train Acc: 97.72%\n",
            "Validation Loss: 0.3070 | Validation Acc: 91.92%\n",
            "Epoch 81 | Train Loss: 0.0634 | Train Acc: 98.14%\n",
            "Validation Loss: 0.2895 | Validation Acc: 92.81%\n",
            "Epoch 82 | Train Loss: 0.0614 | Train Acc: 98.18%\n",
            "Validation Loss: 0.2743 | Validation Acc: 92.88%\n",
            "Epoch 83 | Train Loss: 0.0580 | Train Acc: 98.25%\n",
            "Validation Loss: 0.2729 | Validation Acc: 92.85%\n",
            "Epoch 84 | Train Loss: 0.0474 | Train Acc: 98.58%\n",
            "Validation Loss: 0.2957 | Validation Acc: 92.95%\n",
            "Epoch 85 | Train Loss: 0.0411 | Train Acc: 98.81%\n",
            "Validation Loss: 0.2767 | Validation Acc: 93.43%\n",
            "Epoch 86 | Train Loss: 0.0367 | Train Acc: 98.93%\n",
            "Validation Loss: 0.2747 | Validation Acc: 93.47%\n",
            "Epoch 87 | Train Loss: 0.0313 | Train Acc: 99.09%\n",
            "Validation Loss: 0.2750 | Validation Acc: 93.62%\n",
            "Epoch 88 | Train Loss: 0.0268 | Train Acc: 99.22%\n",
            "Validation Loss: 0.2779 | Validation Acc: 93.70%\n",
            "Epoch 89 | Train Loss: 0.0225 | Train Acc: 99.36%\n",
            "Validation Loss: 0.2763 | Validation Acc: 93.77%\n",
            "Epoch 90 | Train Loss: 0.0203 | Train Acc: 99.42%\n",
            "Validation Loss: 0.2756 | Validation Acc: 93.65%\n",
            "Epoch 91 | Train Loss: 0.0193 | Train Acc: 99.48%\n",
            "Validation Loss: 0.2838 | Validation Acc: 93.73%\n",
            "Epoch 92 | Train Loss: 0.0165 | Train Acc: 99.55%\n",
            "Validation Loss: 0.2757 | Validation Acc: 94.00%\n",
            "Epoch 93 | Train Loss: 0.0141 | Train Acc: 99.65%\n",
            "Validation Loss: 0.2749 | Validation Acc: 94.12%\n",
            "Early stopping triggered!\n"
          ]
        }
      ]
    },
    {
      "cell_type": "code",
      "source": [],
      "metadata": {
        "id": "e_qvMpwZ5L8y"
      },
      "execution_count": null,
      "outputs": []
    }
  ]
}