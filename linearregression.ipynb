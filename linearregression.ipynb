{
  "nbformat": 4,
  "nbformat_minor": 0,
  "metadata": {
    "colab": {
      "provenance": [],
      "authorship_tag": "ABX9TyMkB9Uo59JkafjACPqXso8g",
      "include_colab_link": true
    },
    "kernelspec": {
      "name": "python3",
      "display_name": "Python 3"
    },
    "language_info": {
      "name": "python"
    }
  },
  "cells": [
    {
      "cell_type": "markdown",
      "metadata": {
        "id": "view-in-github",
        "colab_type": "text"
      },
      "source": [
        "<a href=\"https://colab.research.google.com/github/anshmehta337/deep-learning/blob/main/linearregression.ipynb\" target=\"_parent\"><img src=\"https://colab.research.google.com/assets/colab-badge.svg\" alt=\"Open In Colab\"/></a>"
      ]
    },
    {
      "cell_type": "code",
      "execution_count": 53,
      "metadata": {
        "id": "v9nXO0Bx3biV"
      },
      "outputs": [],
      "source": [
        "import torch\n",
        "import torch.nn as nn\n",
        "import torch.optim as optim\n",
        "import torch.nn.functional as F"
      ]
    },
    {
      "cell_type": "code",
      "source": [
        "X_train=torch.FloatTensor([[1],[2],[3]])\n",
        "y_train=torch.FloatTensor([[1],[2],[3]])"
      ],
      "metadata": {
        "id": "FxB7Wb2A4EG3"
      },
      "execution_count": 54,
      "outputs": []
    },
    {
      "cell_type": "code",
      "source": [
        "W = torch.zeros(1, requires_grad=True)\n",
        "b = torch.zeros(1, requires_grad=True)\n",
        "print(b)\n",
        "print(W)"
      ],
      "metadata": {
        "colab": {
          "base_uri": "https://localhost:8080/"
        },
        "id": "B4CyOv2A4RZT",
        "outputId": "3e6d4ef8-0d32-4826-e384-4ae10b166d8d"
      },
      "execution_count": 55,
      "outputs": [
        {
          "output_type": "stream",
          "name": "stdout",
          "text": [
            "tensor([0.], requires_grad=True)\n",
            "tensor([0.], requires_grad=True)\n"
          ]
        }
      ]
    },
    {
      "cell_type": "code",
      "source": [
        "#linear regression equation looks like y=wx+b"
      ],
      "metadata": {
        "id": "M_VUvT0vXJSd"
      },
      "execution_count": 56,
      "outputs": []
    },
    {
      "cell_type": "code",
      "source": [
        "y=W*X_train+b"
      ],
      "metadata": {
        "id": "Cp8pODEGX-Y9"
      },
      "execution_count": 57,
      "outputs": []
    },
    {
      "cell_type": "code",
      "source": [
        "y"
      ],
      "metadata": {
        "colab": {
          "base_uri": "https://localhost:8080/"
        },
        "id": "vqInRH1XYE4z",
        "outputId": "4d6fc252-7c5c-4c5d-b2c2-37c89a4e8866"
      },
      "execution_count": 58,
      "outputs": [
        {
          "output_type": "execute_result",
          "data": {
            "text/plain": [
              "tensor([[0.],\n",
              "        [0.],\n",
              "        [0.]], grad_fn=<AddBackward0>)"
            ]
          },
          "metadata": {},
          "execution_count": 58
        }
      ]
    },
    {
      "cell_type": "code",
      "source": [
        "cost = torch.mean((y - y_train) ** 2)"
      ],
      "metadata": {
        "id": "22mSIPNwYITw"
      },
      "execution_count": 59,
      "outputs": []
    },
    {
      "cell_type": "code",
      "source": [
        "print(cost)"
      ],
      "metadata": {
        "colab": {
          "base_uri": "https://localhost:8080/"
        },
        "id": "Q9pFrlNOYbxY",
        "outputId": "cd4c5430-fada-41d9-967c-d6dd5a5e4c52"
      },
      "execution_count": 60,
      "outputs": [
        {
          "output_type": "stream",
          "name": "stdout",
          "text": [
            "tensor(4.6667, grad_fn=<MeanBackward0>)\n"
          ]
        }
      ]
    },
    {
      "cell_type": "code",
      "source": [
        "op=optim.SGD([W,b],lr=0.01)"
      ],
      "metadata": {
        "id": "8G82SY2eYe3J"
      },
      "execution_count": 61,
      "outputs": []
    },
    {
      "cell_type": "code",
      "source": [
        "epochs=1111\n",
        "for e in range(epochs+1):\n",
        "    hypothesis = X_train * W + b\n",
        "\n",
        "\n",
        "    cost = torch.mean((hypothesis - y_train) ** 2)\n",
        "\n",
        "    op.zero_grad()\n",
        "    cost.backward()\n",
        "    op.step()\n",
        "\n",
        "\n",
        "    if e % 100 == 0:\n",
        "        print('Epoch {:4d}/{} W: {:.3f}, b: {:.3f} Cost: {:.6f}'.format(\n",
        "            e, e, W.item(), b.item(), cost.item()\n",
        "        ))"
      ],
      "metadata": {
        "colab": {
          "base_uri": "https://localhost:8080/"
        },
        "id": "QPy1-OcfY2LN",
        "outputId": "9accf6b6-ed0d-4862-d409-b28a296b4f41"
      },
      "execution_count": 62,
      "outputs": [
        {
          "output_type": "stream",
          "name": "stdout",
          "text": [
            "Epoch    0/0 W: 0.093, b: 0.040 Cost: 4.666667\n",
            "Epoch  100/100 W: 0.873, b: 0.289 Cost: 0.012043\n",
            "Epoch  200/200 W: 0.900, b: 0.227 Cost: 0.007442\n",
            "Epoch  300/300 W: 0.921, b: 0.179 Cost: 0.004598\n",
            "Epoch  400/400 W: 0.938, b: 0.140 Cost: 0.002842\n",
            "Epoch  500/500 W: 0.951, b: 0.110 Cost: 0.001756\n",
            "Epoch  600/600 W: 0.962, b: 0.087 Cost: 0.001085\n",
            "Epoch  700/700 W: 0.970, b: 0.068 Cost: 0.000670\n",
            "Epoch  800/800 W: 0.976, b: 0.054 Cost: 0.000414\n",
            "Epoch  900/900 W: 0.981, b: 0.042 Cost: 0.000256\n",
            "Epoch 1000/1000 W: 0.985, b: 0.033 Cost: 0.000158\n",
            "Epoch 1100/1100 W: 0.989, b: 0.026 Cost: 0.000098\n"
          ]
        }
      ]
    },
    {
      "cell_type": "code",
      "source": [
        "RESS = y_train* W + b\n",
        "print(RESS)"
      ],
      "metadata": {
        "colab": {
          "base_uri": "https://localhost:8080/"
        },
        "id": "jD8cfeL7cE9s",
        "outputId": "0d542287-40e4-4933-ec10-97ac6116e2b3"
      },
      "execution_count": 63,
      "outputs": [
        {
          "output_type": "stream",
          "name": "stdout",
          "text": [
            "tensor([[1.0142],\n",
            "        [2.0030],\n",
            "        [2.9919]], grad_fn=<AddBackward0>)\n"
          ]
        }
      ]
    },
    {
      "cell_type": "code",
      "source": [],
      "metadata": {
        "id": "w_iPMppXcuH1"
      },
      "execution_count": 63,
      "outputs": []
    },
    {
      "cell_type": "code",
      "source": [
        "class linear(nn.Module):\n",
        "  def __init__(self):\n",
        "    super().__init__()\n",
        "    self.Linear=nn.Linear(1,1)\n",
        "  def forward(self,x):\n",
        "    return self.Linear(x)"
      ],
      "metadata": {
        "id": "SwoOjWpndMIh"
      },
      "execution_count": 64,
      "outputs": []
    },
    {
      "cell_type": "code",
      "source": [
        "model = linear()"
      ],
      "metadata": {
        "id": "2BnfzKN_dhwr"
      },
      "execution_count": 65,
      "outputs": []
    },
    {
      "cell_type": "code",
      "source": [
        "hypothesi = model(X_train)\n",
        "print(hypothesi)"
      ],
      "metadata": {
        "colab": {
          "base_uri": "https://localhost:8080/"
        },
        "id": "UcDLm5dsdoyP",
        "outputId": "2c5e4c06-cb1b-49fe-8a1e-14ac9335d68e"
      },
      "execution_count": 66,
      "outputs": [
        {
          "output_type": "stream",
          "name": "stdout",
          "text": [
            "tensor([[1.2239],\n",
            "        [1.9882],\n",
            "        [2.7525]], grad_fn=<AddmmBackward0>)\n"
          ]
        }
      ]
    },
    {
      "cell_type": "code",
      "source": [
        "import torch\n",
        "import torch.nn as nn\n",
        "import torch.optim as optim\n",
        "\n",
        "# Training data\n",
        "x_train = torch.tensor([[1.0], [2.0], [3.0]])\n",
        "y_train = torch.tensor([[1.0], [2.0], [3.0]])\n",
        "\n",
        "\n",
        "class LinearRegressionModel(nn.Module):\n",
        "    def __init__(self):\n",
        "        super().__init__()\n",
        "        self.linear = nn.Linear(1, 1)\n",
        "\n",
        "    def forward(self, x):\n",
        "        return self.linear(x)\n",
        "\n",
        "model = LinearRegressionModel()\n",
        "\n",
        "criterion = nn.MSELoss()\n",
        "optimizer = optim.SGD(model.parameters(), lr=0.01)\n",
        "\n",
        "\n",
        "num_epochs = 2000\n",
        "\n",
        "\n",
        "for epoch in range(num_epochs):\n",
        "\n",
        "    hypothesis = model(x_train)\n",
        "\n",
        "    loss = criterion(hypothesis, y_train)\n",
        "\n",
        "    optimizer.zero_grad()\n",
        "    loss.backward()\n",
        "    optimizer.step()\n",
        "\n",
        "\n",
        "    if (epoch + 1) % 100 == 0:\n",
        "        print(f'Epoch [{epoch+1}/{num_epochs}], Loss: {loss.item():.4f}')\n"
      ],
      "metadata": {
        "colab": {
          "base_uri": "https://localhost:8080/"
        },
        "id": "awAn_jdfdsa2",
        "outputId": "a0f63806-2d26-4317-cda0-042503dd4852"
      },
      "execution_count": 69,
      "outputs": [
        {
          "output_type": "stream",
          "name": "stdout",
          "text": [
            "Epoch [100/2000], Loss: 0.0456\n",
            "Epoch [200/2000], Loss: 0.0282\n",
            "Epoch [300/2000], Loss: 0.0174\n",
            "Epoch [400/2000], Loss: 0.0108\n",
            "Epoch [500/2000], Loss: 0.0067\n",
            "Epoch [600/2000], Loss: 0.0041\n",
            "Epoch [700/2000], Loss: 0.0025\n",
            "Epoch [800/2000], Loss: 0.0016\n",
            "Epoch [900/2000], Loss: 0.0010\n",
            "Epoch [1000/2000], Loss: 0.0006\n",
            "Epoch [1100/2000], Loss: 0.0004\n",
            "Epoch [1200/2000], Loss: 0.0002\n",
            "Epoch [1300/2000], Loss: 0.0001\n",
            "Epoch [1400/2000], Loss: 0.0001\n",
            "Epoch [1500/2000], Loss: 0.0001\n",
            "Epoch [1600/2000], Loss: 0.0000\n",
            "Epoch [1700/2000], Loss: 0.0000\n",
            "Epoch [1800/2000], Loss: 0.0000\n",
            "Epoch [1900/2000], Loss: 0.0000\n",
            "Epoch [2000/2000], Loss: 0.0000\n"
          ]
        }
      ]
    },
    {
      "cell_type": "code",
      "source": [
        "print(model(y_train))"
      ],
      "metadata": {
        "colab": {
          "base_uri": "https://localhost:8080/"
        },
        "id": "wtKV8ZGNebk4",
        "outputId": "5cc63eec-4892-48ca-80cf-6c20d7f4b4fb"
      },
      "execution_count": 70,
      "outputs": [
        {
          "output_type": "stream",
          "name": "stdout",
          "text": [
            "tensor([[1.0033],\n",
            "        [2.0007],\n",
            "        [2.9981]], grad_fn=<AddmmBackward0>)\n"
          ]
        }
      ]
    },
    {
      "cell_type": "code",
      "source": [],
      "metadata": {
        "id": "wWZZzf3ferTX"
      },
      "execution_count": 68,
      "outputs": []
    }
  ]
}