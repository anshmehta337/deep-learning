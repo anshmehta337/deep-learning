{
  "nbformat": 4,
  "nbformat_minor": 0,
  "metadata": {
    "colab": {
      "provenance": [],
      "authorship_tag": "ABX9TyNMNyLbP1ggmyRWcddOvFYb",
      "include_colab_link": true
    },
    "kernelspec": {
      "name": "python3",
      "display_name": "Python 3"
    },
    "language_info": {
      "name": "python"
    }
  },
  "cells": [
    {
      "cell_type": "markdown",
      "metadata": {
        "id": "view-in-github",
        "colab_type": "text"
      },
      "source": [
        "<a href=\"https://colab.research.google.com/github/anshmehta337/deep-learning/blob/main/optunaworkingonMNIST.ipynb\" target=\"_parent\"><img src=\"https://colab.research.google.com/assets/colab-badge.svg\" alt=\"Open In Colab\"/></a>"
      ]
    },
    {
      "cell_type": "code",
      "execution_count": 1,
      "metadata": {
        "id": "tASL1NGx3Vak"
      },
      "outputs": [],
      "source": [
        "import torch\n",
        "import torch.nn as nn\n",
        "import torch.optim as optim\n",
        "import torchvision\n",
        "import torchvision.transforms as transforms"
      ]
    },
    {
      "cell_type": "code",
      "source": [
        "!pip install optuna"
      ],
      "metadata": {
        "colab": {
          "base_uri": "https://localhost:8080/"
        },
        "id": "E0vsIgNo3sqK",
        "outputId": "953d93b6-e1c2-45e3-8770-05ac692f176c"
      },
      "execution_count": 2,
      "outputs": [
        {
          "output_type": "stream",
          "name": "stdout",
          "text": [
            "Collecting optuna\n",
            "  Downloading optuna-4.4.0-py3-none-any.whl.metadata (17 kB)\n",
            "Collecting alembic>=1.5.0 (from optuna)\n",
            "  Downloading alembic-1.16.4-py3-none-any.whl.metadata (7.3 kB)\n",
            "Collecting colorlog (from optuna)\n",
            "  Downloading colorlog-6.9.0-py3-none-any.whl.metadata (10 kB)\n",
            "Requirement already satisfied: numpy in /usr/local/lib/python3.11/dist-packages (from optuna) (2.0.2)\n",
            "Requirement already satisfied: packaging>=20.0 in /usr/local/lib/python3.11/dist-packages (from optuna) (25.0)\n",
            "Requirement already satisfied: sqlalchemy>=1.4.2 in /usr/local/lib/python3.11/dist-packages (from optuna) (2.0.42)\n",
            "Requirement already satisfied: tqdm in /usr/local/lib/python3.11/dist-packages (from optuna) (4.67.1)\n",
            "Requirement already satisfied: PyYAML in /usr/local/lib/python3.11/dist-packages (from optuna) (6.0.2)\n",
            "Requirement already satisfied: Mako in /usr/lib/python3/dist-packages (from alembic>=1.5.0->optuna) (1.1.3)\n",
            "Requirement already satisfied: typing-extensions>=4.12 in /usr/local/lib/python3.11/dist-packages (from alembic>=1.5.0->optuna) (4.14.1)\n",
            "Requirement already satisfied: greenlet>=1 in /usr/local/lib/python3.11/dist-packages (from sqlalchemy>=1.4.2->optuna) (3.2.3)\n",
            "Downloading optuna-4.4.0-py3-none-any.whl (395 kB)\n",
            "\u001b[2K   \u001b[90m━━━━━━━━━━━━━━━━━━━━━━━━━━━━━━━━━━━━━━━━\u001b[0m \u001b[32m395.9/395.9 kB\u001b[0m \u001b[31m8.7 MB/s\u001b[0m eta \u001b[36m0:00:00\u001b[0m\n",
            "\u001b[?25hDownloading alembic-1.16.4-py3-none-any.whl (247 kB)\n",
            "\u001b[2K   \u001b[90m━━━━━━━━━━━━━━━━━━━━━━━━━━━━━━━━━━━━━━━━\u001b[0m \u001b[32m247.0/247.0 kB\u001b[0m \u001b[31m10.8 MB/s\u001b[0m eta \u001b[36m0:00:00\u001b[0m\n",
            "\u001b[?25hDownloading colorlog-6.9.0-py3-none-any.whl (11 kB)\n",
            "Installing collected packages: colorlog, alembic, optuna\n",
            "Successfully installed alembic-1.16.4 colorlog-6.9.0 optuna-4.4.0\n"
          ]
        }
      ]
    },
    {
      "cell_type": "code",
      "source": [
        "import optuna"
      ],
      "metadata": {
        "id": "PppTapue3wXs"
      },
      "execution_count": 3,
      "outputs": []
    },
    {
      "cell_type": "code",
      "source": [
        "#lets load our dataset too\n",
        "trainset=torchvision.datasets.MNIST(root='./data',train=True,download=True,transform=transforms.ToTensor())\n",
        "testset=torchvision.datasets.MNIST(root='./data',train=False,download=True,transform=transforms.ToTensor())"
      ],
      "metadata": {
        "colab": {
          "base_uri": "https://localhost:8080/"
        },
        "id": "Gib2J-z63x8_",
        "outputId": "f87cf0df-9736-430c-ba4e-24749d4d4582"
      },
      "execution_count": 4,
      "outputs": [
        {
          "output_type": "stream",
          "name": "stderr",
          "text": [
            "100%|██████████| 9.91M/9.91M [00:00<00:00, 35.8MB/s]\n",
            "100%|██████████| 28.9k/28.9k [00:00<00:00, 1.11MB/s]\n",
            "100%|██████████| 1.65M/1.65M [00:00<00:00, 8.32MB/s]\n",
            "100%|██████████| 4.54k/4.54k [00:00<00:00, 4.82MB/s]\n"
          ]
        }
      ]
    },
    {
      "cell_type": "code",
      "source": [
        "#lets load them\n",
        "trainloader=torch.utils.data.DataLoader(trainset,batch_size=64,shuffle=True)\n",
        "testloader=torch.utils.data.DataLoader(testset,batch_size=64,shuffle=False)"
      ],
      "metadata": {
        "id": "tbCX8sIp4NSo"
      },
      "execution_count": 5,
      "outputs": []
    },
    {
      "cell_type": "markdown",
      "source": [],
      "metadata": {
        "id": "qw2pic_cE-Cu"
      }
    },
    {
      "cell_type": "code",
      "source": [
        "\n",
        "# Define model\n",
        "class Net(nn.Module):\n",
        "    def __init__(self, hidden_size, drop):\n",
        "        super(Net, self).__init__()\n",
        "        self.fc1 = nn.Linear(28 * 28, hidden_size)\n",
        "        self.relu = nn.ReLU()\n",
        "        self.dropout = nn.Dropout(drop)\n",
        "        self.fc2 = nn.Linear(hidden_size, 10)\n",
        "\n",
        "    def forward(self, x):\n",
        "        x = x.view(-1, 28 * 28)\n",
        "        x = self.fc1(x)\n",
        "        x = self.relu(x)\n",
        "        x = self.dropout(x)\n",
        "        x = self.fc2(x)\n",
        "        return x\n",
        "\n",
        "# Define objective\n",
        "def obj(trial):\n",
        "    hidd = trial.suggest_int('hidden_size', 127, 514)\n",
        "    dr = trial.suggest_float('dr', 0.0, 0.2)\n",
        "    lr = trial.suggest_float('lr', 1e-4, 1e-1, log=True)\n",
        "    opt_name = trial.suggest_categorical('optimizer', ['Adam', 'SGD'])\n",
        "\n",
        "    device = torch.device(\"cuda\" if torch.cuda.is_available() else \"cpu\")\n",
        "    mod = Net(hidd, dr).to(device)\n",
        "    loss_fn = nn.CrossEntropyLoss()\n",
        "    optimizer = getattr(optim, opt_name)(mod.parameters(), lr=lr)\n",
        "\n",
        "    # Training\n",
        "    mod.train()\n",
        "    for epoch in range(5):\n",
        "        for inputs, labels in trainloader:\n",
        "            inputs, labels = inputs.to(device), labels.to(device)\n",
        "            optimizer.zero_grad()\n",
        "            outputs = mod(inputs)\n",
        "            loss = loss_fn(outputs, labels)\n",
        "            loss.backward()\n",
        "            optimizer.step()\n",
        "\n",
        "    # Evaluation\n",
        "    mod.eval()\n",
        "    correct, total = 0, 0\n",
        "    with torch.no_grad():\n",
        "        for inputs, labels in testloader:\n",
        "            inputs, labels = inputs.to(device), labels.to(device)\n",
        "            outputs = mod(inputs)\n",
        "            _, pred = outputs.max(1)\n",
        "            correct += (pred == labels).sum().item()\n",
        "            total += labels.size(0)\n",
        "\n",
        "    accuracy = correct / total\n",
        "    return 1.0 - accuracy  # minimize error\n",
        "\n",
        "# Run Optuna\n",
        "study = optuna.create_study(direction='minimize')\n",
        "study.optimize(obj, n_trials=30)\n",
        "\n",
        "# Results\n",
        "print(\"Best trial:\")\n",
        "print(\"  Accuracy: {:.4f}\".format(1 - study.best_value))\n",
        "print(\"  Params: \", study.best_params)\n"
      ],
      "metadata": {
        "colab": {
          "base_uri": "https://localhost:8080/"
        },
        "id": "u-D9M2YGEs1n",
        "outputId": "84fe2688-94f2-4c8a-9bec-75aaf1469a2a"
      },
      "execution_count": 21,
      "outputs": [
        {
          "output_type": "stream",
          "name": "stderr",
          "text": [
            "[I 2025-08-01 14:46:30,869] A new study created in memory with name: no-name-52ebdeb6-6de1-433a-adcb-e406f00bf824\n",
            "[I 2025-08-01 14:47:21,339] Trial 0 finished with value: 0.44530000000000003 and parameters: {'hidden_size': 382, 'dr': 0.04042794718908396, 'lr': 0.00012560930249529457, 'optimizer': 'SGD'}. Best is trial 0 with value: 0.44530000000000003.\n",
            "[I 2025-08-01 14:48:24,515] Trial 1 finished with value: 0.02059999999999995 and parameters: {'hidden_size': 485, 'dr': 0.0530568266909244, 'lr': 0.0006208747593762662, 'optimizer': 'Adam'}. Best is trial 1 with value: 0.02059999999999995.\n",
            "[I 2025-08-01 14:49:10,457] Trial 2 finished with value: 0.272 and parameters: {'hidden_size': 223, 'dr': 0.18846145029464548, 'lr': 0.00043726964307582984, 'optimizer': 'SGD'}. Best is trial 1 with value: 0.02059999999999995.\n",
            "[I 2025-08-01 14:50:00,868] Trial 3 finished with value: 0.4938 and parameters: {'hidden_size': 408, 'dr': 0.033111500936658426, 'lr': 0.00010323284352465884, 'optimizer': 'SGD'}. Best is trial 1 with value: 0.02059999999999995.\n",
            "[I 2025-08-01 14:50:50,685] Trial 4 finished with value: 0.09089999999999998 and parameters: {'hidden_size': 319, 'dr': 1.9957176325968717e-06, 'lr': 0.007268069739704595, 'optimizer': 'SGD'}. Best is trial 1 with value: 0.02059999999999995.\n",
            "[I 2025-08-01 14:51:46,144] Trial 5 finished with value: 0.023599999999999954 and parameters: {'hidden_size': 297, 'dr': 0.09117203596502764, 'lr': 0.00358844344834338, 'optimizer': 'Adam'}. Best is trial 1 with value: 0.02059999999999995.\n",
            "[I 2025-08-01 14:52:50,507] Trial 6 finished with value: 0.025599999999999956 and parameters: {'hidden_size': 487, 'dr': 0.1280600058136583, 'lr': 0.00479330908753466, 'optimizer': 'Adam'}. Best is trial 1 with value: 0.02059999999999995.\n",
            "[I 2025-08-01 14:53:45,480] Trial 7 finished with value: 0.22009999999999996 and parameters: {'hidden_size': 275, 'dr': 0.04269357578547466, 'lr': 0.09692226829370304, 'optimizer': 'Adam'}. Best is trial 1 with value: 0.02059999999999995.\n",
            "[I 2025-08-01 14:54:42,868] Trial 8 finished with value: 0.024900000000000033 and parameters: {'hidden_size': 382, 'dr': 0.11589248791761915, 'lr': 0.0004135322254341579, 'optimizer': 'Adam'}. Best is trial 1 with value: 0.02059999999999995.\n",
            "[I 2025-08-01 14:55:27,857] Trial 9 finished with value: 0.0353 and parameters: {'hidden_size': 234, 'dr': 0.11043284414240132, 'lr': 0.07798418317208965, 'optimizer': 'SGD'}. Best is trial 1 with value: 0.02059999999999995.\n",
            "[I 2025-08-01 14:56:15,727] Trial 10 finished with value: 0.025000000000000022 and parameters: {'hidden_size': 150, 'dr': 0.07781517238900551, 'lr': 0.000851212628498089, 'optimizer': 'Adam'}. Best is trial 1 with value: 0.02059999999999995.\n",
            "[I 2025-08-01 14:57:19,175] Trial 11 finished with value: 0.020499999999999963 and parameters: {'hidden_size': 500, 'dr': 0.07759808320708277, 'lr': 0.0018708128333100407, 'optimizer': 'Adam'}. Best is trial 11 with value: 0.020499999999999963.\n",
            "[I 2025-08-01 14:58:20,497] Trial 12 finished with value: 0.020000000000000018 and parameters: {'hidden_size': 510, 'dr': 0.06103874463829313, 'lr': 0.0010705571084146418, 'optimizer': 'Adam'}. Best is trial 12 with value: 0.020000000000000018.\n",
            "[I 2025-08-01 14:59:24,480] Trial 13 finished with value: 0.04749999999999999 and parameters: {'hidden_size': 510, 'dr': 0.1536618773877752, 'lr': 0.016880564233521602, 'optimizer': 'Adam'}. Best is trial 12 with value: 0.020000000000000018.\n",
            "[I 2025-08-01 15:00:24,510] Trial 14 finished with value: 0.019499999999999962 and parameters: {'hidden_size': 442, 'dr': 0.07166834834363736, 'lr': 0.001368143609947808, 'optimizer': 'Adam'}. Best is trial 14 with value: 0.019499999999999962.\n",
            "[I 2025-08-01 15:01:24,717] Trial 15 finished with value: 0.019000000000000017 and parameters: {'hidden_size': 427, 'dr': 0.06299681678736818, 'lr': 0.001470088462283412, 'optimizer': 'Adam'}. Best is trial 15 with value: 0.019000000000000017.\n",
            "[I 2025-08-01 15:02:24,670] Trial 16 finished with value: 0.047699999999999965 and parameters: {'hidden_size': 430, 'dr': 0.0126396250243474, 'lr': 0.022258542482411003, 'optimizer': 'Adam'}. Best is trial 15 with value: 0.019000000000000017.\n",
            "[I 2025-08-01 15:03:25,296] Trial 17 finished with value: 0.02070000000000005 and parameters: {'hidden_size': 442, 'dr': 0.14510386796003386, 'lr': 0.0020295343679434495, 'optimizer': 'Adam'}. Best is trial 15 with value: 0.019000000000000017.\n",
            "[I 2025-08-01 15:04:21,224] Trial 18 finished with value: 0.034599999999999964 and parameters: {'hidden_size': 360, 'dr': 0.07369641060390053, 'lr': 0.00025502642661937854, 'optimizer': 'Adam'}. Best is trial 15 with value: 0.019000000000000017.\n",
            "[I 2025-08-01 15:05:21,864] Trial 19 finished with value: 0.03269999999999995 and parameters: {'hidden_size': 440, 'dr': 0.02192278576057821, 'lr': 0.010590167805742876, 'optimizer': 'Adam'}. Best is trial 15 with value: 0.019000000000000017.\n",
            "[I 2025-08-01 15:06:18,314] Trial 20 finished with value: 0.02200000000000002 and parameters: {'hidden_size': 350, 'dr': 0.09449375485027167, 'lr': 0.002088620607667641, 'optimizer': 'Adam'}. Best is trial 15 with value: 0.019000000000000017.\n",
            "[I 2025-08-01 15:07:17,721] Trial 21 finished with value: 0.0232 and parameters: {'hidden_size': 457, 'dr': 0.06042659133183689, 'lr': 0.0010833547303189938, 'optimizer': 'Adam'}. Best is trial 15 with value: 0.019000000000000017.\n",
            "[I 2025-08-01 15:08:20,889] Trial 22 finished with value: 0.019299999999999984 and parameters: {'hidden_size': 469, 'dr': 0.06519479437589909, 'lr': 0.0013261901433157617, 'optimizer': 'Adam'}. Best is trial 15 with value: 0.019000000000000017.\n",
            "[I 2025-08-01 15:09:20,917] Trial 23 finished with value: 0.02190000000000003 and parameters: {'hidden_size': 405, 'dr': 0.06889488258472395, 'lr': 0.0014930413561767683, 'optimizer': 'Adam'}. Best is trial 15 with value: 0.019000000000000017.\n",
            "[I 2025-08-01 15:10:24,177] Trial 24 finished with value: 0.028699999999999948 and parameters: {'hidden_size': 470, 'dr': 0.08643868673317977, 'lr': 0.0002604177928167982, 'optimizer': 'Adam'}. Best is trial 15 with value: 0.019000000000000017.\n",
            "[I 2025-08-01 15:11:26,131] Trial 25 finished with value: 0.02180000000000004 and parameters: {'hidden_size': 398, 'dr': 0.10554661087496786, 'lr': 0.0032600918816866687, 'optimizer': 'Adam'}. Best is trial 15 with value: 0.019000000000000017.\n",
            "[I 2025-08-01 15:12:18,845] Trial 26 finished with value: 0.2267 and parameters: {'hidden_size': 433, 'dr': 0.0515306983623135, 'lr': 0.0006430639250155813, 'optimizer': 'SGD'}. Best is trial 15 with value: 0.019000000000000017.\n",
            "[I 2025-08-01 15:13:17,390] Trial 27 finished with value: 0.02849999999999997 and parameters: {'hidden_size': 345, 'dr': 0.031371873470107864, 'lr': 0.004809537044076146, 'optimizer': 'Adam'}. Best is trial 15 with value: 0.019000000000000017.\n",
            "[I 2025-08-01 15:14:19,648] Trial 28 finished with value: 0.021299999999999986 and parameters: {'hidden_size': 454, 'dr': 0.12789724584088955, 'lr': 0.001382278430836872, 'optimizer': 'Adam'}. Best is trial 15 with value: 0.019000000000000017.\n",
            "[I 2025-08-01 15:15:11,977] Trial 29 finished with value: 0.43220000000000003 and parameters: {'hidden_size': 374, 'dr': 0.04301116450111173, 'lr': 0.00019182442490180165, 'optimizer': 'SGD'}. Best is trial 15 with value: 0.019000000000000017.\n"
          ]
        },
        {
          "output_type": "stream",
          "name": "stdout",
          "text": [
            "Best trial:\n",
            "  Accuracy: 0.9810\n",
            "  Params:  {'hidden_size': 427, 'dr': 0.06299681678736818, 'lr': 0.001470088462283412, 'optimizer': 'Adam'}\n"
          ]
        }
      ]
    },
    {
      "cell_type": "code",
      "source": [],
      "metadata": {
        "id": "FKQTLuWuGUom"
      },
      "execution_count": null,
      "outputs": []
    }
  ]
}